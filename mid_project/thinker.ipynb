{
 "cells": [
  {
   "cell_type": "code",
   "execution_count": 2,
   "metadata": {},
   "outputs": [],
   "source": [
    "from tkinter import *\n",
    " \n"
   ]
  },
  {
   "cell_type": "code",
   "execution_count": 3,
   "metadata": {},
   "outputs": [
    {
     "ename": "KeyboardInterrupt",
     "evalue": "",
     "output_type": "error",
     "traceback": [
      "\u001b[1;31m---------------------------------------------------------------------------\u001b[0m",
      "\u001b[1;31mKeyboardInterrupt\u001b[0m                         Traceback (most recent call last)",
      "\u001b[1;32md:\\Folder_for_python\\csc4080\\Assignment2\\data_code\\thinker.ipynb Cell 2'\u001b[0m in \u001b[0;36m<module>\u001b[1;34m\u001b[0m\n\u001b[0;32m      <a href='vscode-notebook-cell:/d%3A/Folder_for_python/csc4080/Assignment2/data_code/thinker.ipynb#ch0000001?line=1'>2</a>\u001b[0m root\u001b[39m.\u001b[39mtitle(\u001b[39m'\u001b[39m\u001b[39m我的第一个Python窗体\u001b[39m\u001b[39m'\u001b[39m)\n\u001b[0;32m      <a href='vscode-notebook-cell:/d%3A/Folder_for_python/csc4080/Assignment2/data_code/thinker.ipynb#ch0000001?line=2'>3</a>\u001b[0m root\u001b[39m.\u001b[39mgeometry(\u001b[39m'\u001b[39m\u001b[39m240x240\u001b[39m\u001b[39m'\u001b[39m) \u001b[39m# 这里的乘号不是 * ，而是小写英文字母 x\u001b[39;00m\n\u001b[1;32m----> <a href='vscode-notebook-cell:/d%3A/Folder_for_python/csc4080/Assignment2/data_code/thinker.ipynb#ch0000001?line=3'>4</a>\u001b[0m root\u001b[39m.\u001b[39;49mmainloop()\n",
      "File \u001b[1;32mD:\\anaconda\\envs\\pytorch\\lib\\tkinter\\__init__.py:1420\u001b[0m, in \u001b[0;36mMisc.mainloop\u001b[1;34m(self, n)\u001b[0m\n\u001b[0;32m   <a href='file:///d%3A/anaconda/envs/pytorch/lib/tkinter/__init__.py?line=1417'>1418</a>\u001b[0m \u001b[39mdef\u001b[39;00m \u001b[39mmainloop\u001b[39m(\u001b[39mself\u001b[39m, n\u001b[39m=\u001b[39m\u001b[39m0\u001b[39m):\n\u001b[0;32m   <a href='file:///d%3A/anaconda/envs/pytorch/lib/tkinter/__init__.py?line=1418'>1419</a>\u001b[0m     \u001b[39m\"\"\"Call the mainloop of Tk.\"\"\"\u001b[39;00m\n\u001b[1;32m-> <a href='file:///d%3A/anaconda/envs/pytorch/lib/tkinter/__init__.py?line=1419'>1420</a>\u001b[0m     \u001b[39mself\u001b[39;49m\u001b[39m.\u001b[39;49mtk\u001b[39m.\u001b[39;49mmainloop(n)\n",
      "\u001b[1;31mKeyboardInterrupt\u001b[0m: "
     ]
    }
   ],
   "source": [
    "root= Tk()\n",
    "root.title('我的第一个Python窗体')\n",
    "root.geometry('240x240') # 这里的乘号不是 * ，而是小写英文字母 x\n",
    "root.mainloop()"
   ]
  }
 ],
 "metadata": {
  "interpreter": {
   "hash": "527a93331b4b1a8345148922acc34427fb7591433d63b66d32040b6fbbc6d593"
  },
  "kernelspec": {
   "display_name": "Python 3.8.5 ('pytorch')",
   "language": "python",
   "name": "python3"
  },
  "language_info": {
   "codemirror_mode": {
    "name": "ipython",
    "version": 3
   },
   "file_extension": ".py",
   "mimetype": "text/x-python",
   "name": "python",
   "nbconvert_exporter": "python",
   "pygments_lexer": "ipython3",
   "version": "3.8.5"
  },
  "orig_nbformat": 4
 },
 "nbformat": 4,
 "nbformat_minor": 2
}
